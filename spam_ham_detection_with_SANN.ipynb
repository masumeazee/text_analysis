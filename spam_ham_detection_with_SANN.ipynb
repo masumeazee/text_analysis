{
 "cells": [
  {
   "cell_type": "code",
   "execution_count": 1,
   "id": "ed31f876",
   "metadata": {},
   "outputs": [
    {
     "name": "stdout",
     "output_type": "stream",
     "text": [
      "  Category                                            Message\n",
      "0      ham  Go until jurong point, crazy.. Available only ...\n",
      "1      ham                      Ok lar... Joking wif u oni...\n",
      "2     spam  Free entry in 2 a wkly comp to win FA Cup fina...\n",
      "3      ham  U dun say so early hor... U c already then say...\n",
      "4      ham  Nah I don't think he goes to usf, he lives aro...\n"
     ]
    }
   ],
   "source": [
    "# -*- coding: utf-8 -*-\n",
    "\n",
    "\"\"\"\n",
    "@implementation of --> SPAM text message <-- With Sequential Neural Network\n",
    "\n",
    "\"\"\" \n",
    "\n",
    "import pandas as pd\n",
    "import matplotlib.pyplot as plt\n",
    "\n",
    "# read dataset (csv -> pandas dataframe)\n",
    "# https://www.kaggle.com/team-ai/spam-text-message-classification  # link to download dataset\n",
    "\n",
    "df = pd.read_csv(\"../SPAM text message 20170820 - Data.csv\")\n",
    "print(df.head())"
   ]
  },
  {
   "cell_type": "code",
   "execution_count": 38,
   "id": "34607297",
   "metadata": {},
   "outputs": [
    {
     "name": "stdout",
     "output_type": "stream",
     "text": [
      "   Category                                            Message\n",
      "0         0  Go until jurong point, crazy.. Available only ...\n",
      "1         0                      Ok lar... Joking wif u oni...\n",
      "2         1  Free entry in 2 a wkly comp to win FA Cup fina...\n",
      "3         0  U dun say so early hor... U c already then say...\n",
      "4         0  Nah I don't think he goes to usf, he lives aro...\n",
      "5         1  FreeMsg Hey there darling it's been 3 week's n...\n",
      "6         0  Even my brother is not like to speak with me. ...\n",
      "7         0  As per your request 'Melle Melle (Oru Minnamin...\n",
      "8         1  WINNER!! As a valued network customer you have...\n",
      "9         1  Had your mobile 11 months or more? U R entitle...\n",
      "  category  number\n",
      "0     spam     747\n",
      "1      ham    4825\n"
     ]
    },
    {
     "data": {
      "image/png": "[encoded data removed]",
      "text/plain": [
       "<Figure size 432x288 with 1 Axes>"
      ]
     },
     "metadata": {
      "needs_background": "light"
     },
     "output_type": "display_data"
    }
   ],
   "source": [
    "df[\"Category\"].replace({'ham': 0 ,'spam': 1}, inplace=True)\n",
    "print(df.head(10))\n",
    "\n",
    "# gain insight from data\n",
    "data = {'category': ['spam', 'ham'],\n",
    "        'number': [len(df.loc[df.Category==1]), len(df.loc[df.Category==0])]\n",
    "        }  \n",
    "df_count = pd.DataFrame(data,columns=['category', 'number'])\n",
    "print (df_count)\n",
    "\n",
    "df_count.plot(x ='category', y='number', kind = 'bar')\n",
    "plt.show()\n"
   ]
  },
  {
   "cell_type": "code",
   "execution_count": 17,
   "id": "da0bf062",
   "metadata": {},
   "outputs": [],
   "source": [
    "import pandas as pd\n",
    "from keras.preprocessing.text import Tokenizer\n",
    "from keras.preprocessing.sequence import pad_sequences\n",
    "\n",
    "# Load your dataset here\n",
    "df = pd.read_csv(\"E:/DataSetssss/SPAM text message 20170820 - Data.csv\")\n",
    "\n",
    "# Split the dataset into X and y\n",
    "X = df['Message']\n",
    "y = df['Category']\n",
    "\n",
    "# Tokenizing the input data\n",
    "tokenizer = Tokenizer()\n",
    "tokenizer.fit_on_texts(X)\n",
    "X = tokenizer.texts_to_sequences(X)\n",
    "\n",
    "# Pad the input data to a fixed length\n",
    "max_len = max([len(i) for i in X])\n",
    "x = pad_sequences(X, maxlen=max_len)\n"
   ]
  },
  {
   "cell_type": "code",
   "execution_count": 18,
   "id": "fb8ff5f7",
   "metadata": {},
   "outputs": [
    {
     "data": {
      "text/plain": [
       "9005"
      ]
     },
     "execution_count": 18,
     "metadata": {},
     "output_type": "execute_result"
    }
   ],
   "source": [
    "input_shape = len(tokenizer.word_index) + 1 ## expects float value in shape --> total number of unique words\n",
    "input_shape "
   ]
  },
  {
   "cell_type": "code",
   "execution_count": 45,
   "id": "b39e1ea2",
   "metadata": {},
   "outputs": [],
   "source": [
    "from sklearn.model_selection import train_test_split\n",
    "from keras.models import Sequential\n",
    "from keras.layers import Dense, Embedding, LSTM\n",
    "\n",
    "# Split the data into training and test sets\n",
    "x_train, x_test, y_train, y_test = train_test_split(x, y, test_size=0.2)\n",
    "# convert the label to numerical format to be set in model(Cast string to numeric)\n",
    "y_train = y_train.replace({\"spam\":1, \"ham\":0})\n",
    "y_test = y_test.replace({\"spam\":1, \"ham\":0})\n",
    "# Create the sequential model\n",
    "model = Sequential()\n",
    "#This embedding layer initialized with random weights \n",
    "model.add(Embedding(input_dim=input_shape, output_dim=256, input_length=max_len))\n",
    "#LSTM to handling sequential data(text data)\n",
    "model.add(LSTM(128))\n",
    "# last layer --> sigmoid --> to output a probability of the email being spam (1) or ham (0).\n",
    "model.add(Dense(1, activation='sigmoid'))\n"
   ]
  },
  {
   "cell_type": "code",
   "execution_count": 46,
   "id": "c7ca7005",
   "metadata": {},
   "outputs": [
    {
     "name": "stdout",
     "output_type": "stream",
     "text": [
      "Model: \"sequential_10\"\n",
      "_________________________________________________________________\n",
      " Layer (type)                Output Shape              Param #   \n",
      "=================================================================\n",
      " embedding_8 (Embedding)     (None, 189, 256)          2305280   \n",
      "                                                                 \n",
      " lstm_4 (LSTM)               (None, 128)               197120    \n",
      "                                                                 \n",
      " dense_12 (Dense)            (None, 1)                 129       \n",
      "                                                                 \n",
      "=================================================================\n",
      "Total params: 2,502,529\n",
      "Trainable params: 2,502,529\n",
      "Non-trainable params: 0\n",
      "_________________________________________________________________\n"
     ]
    }
   ],
   "source": [
    "model.summary()"
   ]
  },
  {
   "cell_type": "code",
   "execution_count": 47,
   "id": "63575329",
   "metadata": {},
   "outputs": [
    {
     "name": "stdout",
     "output_type": "stream",
     "text": [
      "Epoch 1/10\n",
      "140/140 [==============================] - 45s 293ms/step - loss: 0.1363 - accuracy: 0.9500 - val_loss: 0.0408 - val_accuracy: 0.9883\n",
      "Epoch 2/10\n",
      "140/140 [==============================] - 52s 369ms/step - loss: 0.0230 - accuracy: 0.9937 - val_loss: 0.0390 - val_accuracy: 0.9901\n",
      "Epoch 3/10\n",
      "140/140 [==============================] - 53s 376ms/step - loss: 0.0059 - accuracy: 0.9984 - val_loss: 0.0403 - val_accuracy: 0.9919\n",
      "Epoch 4/10\n",
      "140/140 [==============================] - 41s 295ms/step - loss: 0.0039 - accuracy: 0.9991 - val_loss: 0.0467 - val_accuracy: 0.9883\n",
      "Epoch 5/10\n",
      "140/140 [==============================] - 49s 347ms/step - loss: 0.0069 - accuracy: 0.9984 - val_loss: 0.0626 - val_accuracy: 0.9821\n",
      "Epoch 6/10\n",
      "140/140 [==============================] - 44s 316ms/step - loss: 0.0044 - accuracy: 0.9989 - val_loss: 0.0313 - val_accuracy: 0.9928\n",
      "Epoch 7/10\n",
      "140/140 [==============================] - 45s 316ms/step - loss: 3.2412e-04 - accuracy: 1.0000 - val_loss: 0.0367 - val_accuracy: 0.9919\n",
      "Epoch 8/10\n",
      "140/140 [==============================] - 48s 345ms/step - loss: 1.6634e-04 - accuracy: 1.0000 - val_loss: 0.0384 - val_accuracy: 0.9937\n",
      "Epoch 9/10\n",
      "140/140 [==============================] - 44s 313ms/step - loss: 1.1220e-04 - accuracy: 1.0000 - val_loss: 0.0405 - val_accuracy: 0.9928\n",
      "Epoch 10/10\n",
      "140/140 [==============================] - 46s 331ms/step - loss: 8.1410e-05 - accuracy: 1.0000 - val_loss: 0.0421 - val_accuracy: 0.9928\n",
      "35/35 [==============================] - 3s 86ms/step - loss: 0.0421 - accuracy: 0.9928\n",
      "Test score: 0.042052239179611206\n",
      "Test accuracy: 0.9928250908851624\n"
     ]
    }
   ],
   "source": [
    "\n",
    "# Compile the model\n",
    "model.compile(loss='binary_crossentropy', optimizer='adam', metrics=['accuracy'])\n",
    "\n",
    "# Train the model\n",
    "model.fit(x_train, y_train, batch_size=32, epochs=10, validation_data=(x_test, y_test))\n",
    "\n",
    "# Test the model\n",
    "score, acc = model.evaluate(x_test, y_test, batch_size=32)\n",
    "print('Test score:', score)\n",
    "print('Test accuracy:', acc)"
   ]
  },
  {
   "cell_type": "code",
   "execution_count": 76,
   "id": "b1621124",
   "metadata": {},
   "outputs": [
    {
     "data": {
      "text/plain": [
       "array([[2.9692366e-05],\n",
       "       [6.0694085e-05],\n",
       "       [6.5867789e-05],\n",
       "       ...,\n",
       "       [3.1402957e-05],\n",
       "       [2.0080805e-04],\n",
       "       [1.5771323e-06]], dtype=float32)"
      ]
     },
     "execution_count": 76,
     "metadata": {},
     "output_type": "execute_result"
    }
   ],
   "source": [
    "result_prediction = model.predict(X_test)  # indcluding the probability of being spam or ham in test set"
   ]
  },
  {
   "cell_type": "code",
   "execution_count": null,
   "id": "d8e4ad4f",
   "metadata": {},
   "outputs": [],
   "source": []
  },
  {
   "cell_type": "code",
   "execution_count": 123,
   "id": "e9f9045f",
   "metadata": {},
   "outputs": [],
   "source": [
    "c = [] # list of pridected value (threshold above 0.6) to campared with y_test\n",
    " \n",
    "for i in range(len(b)):\n",
    "    if b[i]> 0.6:\n",
    "        c.append(1)\n",
    "    else: c.append(0)    "
   ]
  }
 ],
 "metadata": {
  "kernelspec": {
   "display_name": "Python 3 (ipykernel)",
   "language": "python",
   "name": "python3"
  },
  "language_info": {
   "codemirror_mode": {
    "name": "ipython",
    "version": 3
   },
   "file_extension": ".py",
   "mimetype": "text/x-python",
   "name": "python",
   "nbconvert_exporter": "python",
   "pygments_lexer": "ipython3",
   "version": "3.9.7"
  }
 },
 "nbformat": 4,
 "nbformat_minor": 5
}
